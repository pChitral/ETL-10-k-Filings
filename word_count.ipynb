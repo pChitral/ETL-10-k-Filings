{
 "cells": [
  {
   "cell_type": "code",
   "execution_count": 7,
   "metadata": {},
   "outputs": [
    {
     "name": "stdout",
     "output_type": "stream",
     "text": [
      "Content saved to mdna_output.txt\n"
     ]
    },
    {
     "data": {
      "text/plain": [
       "'MD&A section not found.'"
      ]
     },
     "execution_count": 7,
     "metadata": {},
     "output_type": "execute_result"
    }
   ],
   "source": [
    "from bs4 import BeautifulSoup\n",
    "\n",
    "def extract_mdna_section(file_path):\n",
    "    with open(file_path, 'r', encoding='utf-8') as file:\n",
    "        content = file.read()\n",
    "    soup = BeautifulSoup(content, 'html.parser')\n",
    "    \n",
    "    # Extract content starting from \"ITEM 7.\"\n",
    "    mda_start = soup.find(string=lambda text: 'ITEM 7.' in text)\n",
    "    if not mda_start:\n",
    "        return \"MD&A section not found.\"\n",
    "    \n",
    "    # Capture the content until we hit the next section\n",
    "    mda_content = []\n",
    "    for sibling in mda_start.find_all_next(string=True):\n",
    "        if \"ITEM 8.\" in sibling:\n",
    "            break\n",
    "        mda_content.append(sibling.strip())\n",
    "\n",
    "    # Refine the extracted content\n",
    "    refined_mda_content = []\n",
    "    for item in mda_content:\n",
    "        if \"PAGE\" in item or \"Table of Contents\" in item or \"Part II\" in item:\n",
    "            continue\n",
    "        refined_mda_content.append(item)\n",
    "\n",
    "    # Convert the list into a single string\n",
    "    mdna_text = ' '.join(refined_mda_content)\n",
    "\n",
    "    # Replace multiple spaces with a single space\n",
    "    mdna_text = ' '.join(mdna_text.split())\n",
    "\n",
    "    # Remove unwanted patterns (you can add more patterns if needed)\n",
    "    unwanted_patterns = [\"&nbsp;\", \"&#146;\", \"&#147;\", \"&#148;\"]\n",
    "    for pattern in unwanted_patterns:\n",
    "        mdna_text = mdna_text.replace(pattern, '')\n",
    "\n",
    "    return mdna_text\n",
    "\n",
    "# Example usage\n",
    "file_path = 'data/sec-edgar-filings/AAPL/10-K/0001193125-13-416534/primary-document.html'\n",
    "mdna_text = extract_mdna_section(file_path)\n",
    "\n",
    "def save_to_file(text, filename):\n",
    "    with open(filename, 'w', encoding='utf-8') as file:\n",
    "        file.write(text)\n",
    "    print(f\"Content saved to {filename}\")\n",
    "\n",
    "# Example usage\n",
    "save_to_file(mdna_text, 'mdna_output.txt')\n",
    "mdna_text"
   ]
  },
  {
   "cell_type": "code",
   "execution_count": null,
   "metadata": {},
   "outputs": [],
   "source": []
  }
 ],
 "metadata": {
  "kernelspec": {
   "display_name": "venv",
   "language": "python",
   "name": "python3"
  },
  "language_info": {
   "codemirror_mode": {
    "name": "ipython",
    "version": 3
   },
   "file_extension": ".py",
   "mimetype": "text/x-python",
   "name": "python",
   "nbconvert_exporter": "python",
   "pygments_lexer": "ipython3",
   "version": "3.11.3"
  }
 },
 "nbformat": 4,
 "nbformat_minor": 2
}
