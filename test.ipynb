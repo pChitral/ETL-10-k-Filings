{
 "cells": [
  {
   "cell_type": "code",
   "execution_count": 4,
   "metadata": {},
   "outputs": [
    {
     "name": "stdout",
     "output_type": "stream",
     "text": [
      "Processed 2 10-K filings for MSFT"
     ]
    },
    {
     "name": "stderr",
     "output_type": "stream",
     "text": [
      "Collecting Tickers: 100%|██████████| 4/4 [00:00<00:00, 997.28ticker/s]"
     ]
    },
    {
     "name": "stdout",
     "output_type": "stream",
     "text": [
      "Files are ready for AMZN\n",
      "Files are ready for AAPL\n",
      "Files are ready for GOOGL\n",
      "Files are ready for MSFT\n"
     ]
    },
    {
     "name": "stderr",
     "output_type": "stream",
     "text": [
      "\n"
     ]
    },
    {
     "name": "stdout",
     "output_type": "stream",
     "text": [
      "Processed 8 10-K filings for GOOGL\n",
      "Error occurred while downloading filing for accession number {}: {} 0001032210-00-001961 404 Client Error: Not Found for url: https://www.sec.gov/Archives/edgar/data/789019/000103221000001961/0001.txt\n"
     ]
    },
    {
     "name": "stderr",
     "output_type": "stream",
     "text": [
      "Collecting Tickers: 100%|██████████| 4/4 [00:00<00:00, 1206.65ticker/s]\n"
     ]
    },
    {
     "name": "stdout",
     "output_type": "stream",
     "text": [
      "Files are ready for AMZN\n",
      "Files are ready for AAPL\n",
      "Files are ready for GOOGL\n",
      "Files are ready for MSFT\n",
      "Processed 22 10-K filings for AAPL\n"
     ]
    },
    {
     "name": "stderr",
     "output_type": "stream",
     "text": [
      "Collecting Tickers: 100%|██████████| 4/4 [00:00<00:00, 1373.61ticker/s]"
     ]
    },
    {
     "name": "stdout",
     "output_type": "stream",
     "text": [
      "Files are ready for AMZN\n",
      "Files are ready for AAPL\n",
      "Files are ready for GOOGL\n",
      "Files are ready for MSFT\n"
     ]
    },
    {
     "name": "stderr",
     "output_type": "stream",
     "text": [
      "\n"
     ]
    },
    {
     "name": "stdout",
     "output_type": "stream",
     "text": [
      "Processed 22 10-K filings for MSFT\n"
     ]
    }
   ],
   "source": [
    "import concurrent.futures\n",
    "from datetime import datetime\n",
    "from utils.get_ticker_10k_filings import get_ticker_10k_filings\n",
    "from utils.collect_ticker_files import collect_ticker_files\n",
    "from utils.delete_txt_files import delete_txt_files\n",
    "from utils.parse_html_file_mda import parse_html_file_mda\n",
    "import os\n",
    "import pandas as pd\n",
    "\n",
    "\n",
    "# New Function: Process a single HTML file\n",
    "def process_html_file(html_file, ticker):\n",
    "    if html_file.endswith(\".html\"):\n",
    "        path_parts = html_file.split(\"/\")\n",
    "        cik_year_acc = path_parts[4].split(\"-\")\n",
    "\n",
    "        if len(cik_year_acc) < 3:\n",
    "            print(f\"Skipping file with unexpected format: {html_file}\")\n",
    "            return None\n",
    "\n",
    "        CIK = cik_year_acc[0]\n",
    "        # Convert the two-digit year to four digits\n",
    "        two_digit_year = cik_year_acc[1]\n",
    "        Year = (\n",
    "            \"19\" + two_digit_year if int(two_digit_year) > 50 else \"20\" + two_digit_year\n",
    "        )\n",
    "        AccessionNumber = cik_year_acc[2]\n",
    "\n",
    "        try:\n",
    "            parsed_data = parse_html_file_mda(html_file)\n",
    "            filing_dict = {\n",
    "                \"ticker\": ticker,\n",
    "                \"year\": int(Year),\n",
    "                \"mda_section\": parsed_data,\n",
    "                \"processed_timestamp\": datetime.now(),\n",
    "            }\n",
    "            return filing_dict\n",
    "        except Exception as e:\n",
    "            print(f\"Could not parse {html_file} due to error: {e}\")\n",
    "            return None\n",
    "\n",
    "\n",
    "# Modified Function: Process ticker 10-K data with parallel processing\n",
    "def process_ticker_10k_data(ticker):\n",
    "    try:\n",
    "        get_ticker_10k_filings(ticker)\n",
    "    except Exception as e:\n",
    "        print(f\"Error occurred while downloading filings for {ticker}: {e}\")\n",
    "        return {}\n",
    "\n",
    "    ticker_files_dict = collect_ticker_files()\n",
    "    delete_txt_files(ticker_files_dict.get(ticker, []))\n",
    "\n",
    "    # Parallel processing of HTML files\n",
    "    html_files = ticker_files_dict.get(ticker, [])\n",
    "    with concurrent.futures.ThreadPoolExecutor() as executor:\n",
    "        results = executor.map(lambda file: process_html_file(file, ticker), html_files)\n",
    "        all_parsed_data = {\n",
    "            result[\"processed_timestamp\"]: result\n",
    "            for result in results\n",
    "            if result is not None\n",
    "        }\n",
    "\n",
    "    # Create a list of all parsed data dictionaries\n",
    "    all_parsed_data_list = list(all_parsed_data.values())\n",
    "\n",
    "    return all_parsed_data_list\n",
    "\n",
    "\n",
    "# Function to process a single ticker (to be used in parallel processing)\n",
    "def process_single_ticker(ticker):\n",
    "    ticker_data = process_ticker_10k_data(ticker)\n",
    "    if ticker_data:\n",
    "        # Convert the list of dictionaries to a DataFrame\n",
    "        ticker_df = pd.DataFrame(ticker_data)\n",
    "        print(f\"Processed {len(ticker_df)} 10-K filings for {ticker}\")\n",
    "        return ticker_df\n",
    "    else:\n",
    "        return pd.DataFrame()\n",
    "\n",
    "\n",
    "# Read the JSON file into a DataFrame\n",
    "df = pd.read_json(\"company_tickers.json\", orient=\"index\")\n",
    "tickers = df[\"ticker\"].tolist()\n",
    "\n",
    "# Parallel processing of tickers\n",
    "with concurrent.futures.ThreadPoolExecutor() as executor:\n",
    "    futures = [\n",
    "        executor.submit(process_single_ticker, ticker) for ticker in tickers[:3]\n",
    "    ]  # Adjust as needed\n",
    "    all_tickers_data_frames = [\n",
    "        future.result() for future in concurrent.futures.as_completed(futures)\n",
    "    ]\n",
    "\n",
    "# Combine all dataframes into one\n",
    "all_tickers_df = pd.concat(all_tickers_data_frames, ignore_index=True)\n",
    "\n",
    "# Once all tickers are processed, export to CSV\n",
    "all_tickers_df.to_csv(\"tickers_10k_data.csv\", index=False)"
   ]
  },
  {
   "cell_type": "code",
   "execution_count": 1,
   "metadata": {},
   "outputs": [],
   "source": [
    "import pandas as pd\n",
    "\n",
    "df = pd.read_json(\"company_tickers.json\", orient=\"index\")"
   ]
  },
  {
   "cell_type": "code",
   "execution_count": 4,
   "metadata": {},
   "outputs": [
    {
     "data": {
      "text/html": [
       "<div>\n",
       "<style scoped>\n",
       "    .dataframe tbody tr th:only-of-type {\n",
       "        vertical-align: middle;\n",
       "    }\n",
       "\n",
       "    .dataframe tbody tr th {\n",
       "        vertical-align: top;\n",
       "    }\n",
       "\n",
       "    .dataframe thead th {\n",
       "        text-align: right;\n",
       "    }\n",
       "</style>\n",
       "<table border=\"1\" class=\"dataframe\">\n",
       "  <thead>\n",
       "    <tr style=\"text-align: right;\">\n",
       "      <th></th>\n",
       "      <th>cik_str</th>\n",
       "      <th>ticker</th>\n",
       "      <th>title</th>\n",
       "    </tr>\n",
       "  </thead>\n",
       "  <tbody>\n",
       "    <tr>\n",
       "      <th>0</th>\n",
       "      <td>320193</td>\n",
       "      <td>AAPL</td>\n",
       "      <td>Apple Inc.</td>\n",
       "    </tr>\n",
       "    <tr>\n",
       "      <th>1</th>\n",
       "      <td>789019</td>\n",
       "      <td>MSFT</td>\n",
       "      <td>MICROSOFT CORP</td>\n",
       "    </tr>\n",
       "  </tbody>\n",
       "</table>\n",
       "</div>"
      ],
      "text/plain": [
       "   cik_str ticker           title\n",
       "0   320193   AAPL      Apple Inc.\n",
       "1   789019   MSFT  MICROSOFT CORP"
      ]
     },
     "execution_count": 4,
     "metadata": {},
     "output_type": "execute_result"
    }
   ],
   "source": [
    "tickers_batch = df.iloc[0:2]\n",
    "tickers_batch"
   ]
  },
  {
   "cell_type": "code",
   "execution_count": 9,
   "metadata": {},
   "outputs": [
    {
     "name": "stdout",
     "output_type": "stream",
     "text": [
      "<class 'pandas.core.series.Series'>\n",
      "AAPL\n",
      "<class 'pandas.core.series.Series'>\n",
      "MSFT\n"
     ]
    }
   ],
   "source": [
    "for index, row in tickers_batch.iterrows():\n",
    "    # print(\"This is index: \", index) \n",
    "    # print(\"This is row: \", row)\n",
    "    print(type(row))\n",
    "    print(row[\"ticker\"])"
   ]
  },
  {
   "cell_type": "code",
   "execution_count": null,
   "metadata": {},
   "outputs": [],
   "source": []
  }
 ],
 "metadata": {
  "kernelspec": {
   "display_name": "venv",
   "language": "python",
   "name": "python3"
  },
  "language_info": {
   "codemirror_mode": {
    "name": "ipython",
    "version": 3
   },
   "file_extension": ".py",
   "mimetype": "text/x-python",
   "name": "python",
   "nbconvert_exporter": "python",
   "pygments_lexer": "ipython3",
   "version": "3.11.6"
  }
 },
 "nbformat": 4,
 "nbformat_minor": 2
}
