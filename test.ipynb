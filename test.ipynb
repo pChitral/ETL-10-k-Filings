{
 "cells": [
  {
   "cell_type": "code",
   "execution_count": 1,
   "metadata": {},
   "outputs": [
    {
     "name": "stderr",
     "output_type": "stream",
     "text": [
      "Collecting Tickers: 100%|██████████| 4/4 [00:00<00:00, 1640.00ticker/s]\n"
     ]
    },
    {
     "name": "stdout",
     "output_type": "stream",
     "text": [
      "Files are ready for AMZN\n",
      "Files are ready for AAPL\n",
      "Files are ready for GOOGL\n",
      "Files are ready for MSFT\n",
      "Processed 22 10-K filings for AAPL\n",
      "Error occurred while downloading filing for accession number {}: {} 0001032210-00-001961 404 Client Error: Not Found for url: https://www.sec.gov/Archives/edgar/data/789019/000103221000001961/0001.txt\n"
     ]
    },
    {
     "name": "stderr",
     "output_type": "stream",
     "text": [
      "Collecting Tickers: 100%|██████████| 4/4 [00:00<00:00, 1586.05ticker/s]\n"
     ]
    },
    {
     "name": "stdout",
     "output_type": "stream",
     "text": [
      "Files are ready for AMZN\n",
      "Files are ready for AAPL\n",
      "Files are ready for GOOGL\n",
      "Files are ready for MSFT\n",
      "Processed 22 10-K filings for MSFT\n"
     ]
    }
   ],
   "source": [
    "import concurrent.futures\n",
    "from utils.get_ticker_10k_filings import get_ticker_10k_filings\n",
    "from utils.collect_ticker_files import collect_ticker_files\n",
    "from utils.delete_txt_files import delete_txt_files\n",
    "from utils.parse_html_file_mda import parse_html_file_mda\n",
    "import os\n",
    "import pandas as pd\n",
    "\n",
    "\n",
    "# New Function: Process a single HTML file\n",
    "def process_html_file(html_file, ticker):\n",
    "    if html_file.endswith(\".html\"):\n",
    "        path_parts = html_file.split(\"/\")\n",
    "        cik_year_acc = path_parts[4].split(\"-\")\n",
    "\n",
    "        if len(cik_year_acc) < 3:\n",
    "            print(f\"Skipping file with unexpected format: {html_file}\")\n",
    "            return None\n",
    "\n",
    "        CIK = cik_year_acc[0]\n",
    "        # Convert the two-digit year to four digits\n",
    "        two_digit_year = cik_year_acc[1]\n",
    "        Year = (\n",
    "            \"19\" + two_digit_year if int(two_digit_year) > 50 else \"20\" + two_digit_year\n",
    "        )\n",
    "        AccessionNumber = cik_year_acc[2]\n",
    "\n",
    "        try:\n",
    "            parsed_data = parse_html_file_mda(html_file)\n",
    "            filing_dict = {\n",
    "                \"ticker\": ticker,\n",
    "                # \"cik\": CIK,  # use our internal ticker to cik mapping to reduce errors\n",
    "                \"year\": int(Year),\n",
    "                # \"accession_number\": AccessionNumber,  # need to verify this is unique or not\n",
    "                \"mda_section\": parsed_data,\n",
    "            }\n",
    "            return filing_dict\n",
    "        except Exception as e:\n",
    "            print(f\"Could not parse {html_file} due to error: {e}\")\n",
    "            return None\n",
    "\n",
    "\n",
    "# Modified Function: Process ticker 10-K data with parallel processing\n",
    "def process_ticker_10k_data(ticker):\n",
    "    try:\n",
    "        get_ticker_10k_filings(ticker)\n",
    "    except Exception as e:\n",
    "        print(f\"Error occurred while downloading filings for {ticker}: {e}\")\n",
    "        return {}\n",
    "\n",
    "    ticker_files_dict = collect_ticker_files()\n",
    "    delete_txt_files(ticker_files_dict.get(ticker, []))\n",
    "\n",
    "    # Parallel processing of HTML files\n",
    "    html_files = ticker_files_dict.get(ticker, [])\n",
    "    with concurrent.futures.ThreadPoolExecutor() as executor:\n",
    "        results = executor.map(lambda file: process_html_file(file, ticker), html_files)\n",
    "        all_parsed_data = {\n",
    "            result[\"accession_number\"]: result\n",
    "            for result in results\n",
    "            if result is not None\n",
    "        }\n",
    "\n",
    "    # Create a list of all parsed data dictionaries\n",
    "    all_parsed_data_list = list(all_parsed_data.values())\n",
    "\n",
    "    return all_parsed_data_list\n",
    "\n",
    "\n",
    "import pandas as pd\n",
    "\n",
    "# Initialize an empty DataFrame to store all tickers' data\n",
    "all_tickers_df = pd.DataFrame()\n",
    "\n",
    "# Read the JSON file into a DataFrame\n",
    "df = pd.read_json(\"company_tickers.json\", orient=\"index\")\n",
    "tickers = df[\"ticker\"].tolist()\n",
    "count = 0 \n",
    "for ticker in tickers:\n",
    "    count += 1 \n",
    "    if count == 3:\n",
    "        break\n",
    "    ticker_data = process_ticker_10k_data(ticker)\n",
    "    if ticker_data:\n",
    "        # Convert the list of dictionaries to a DataFrame\n",
    "        ticker_df = pd.DataFrame(ticker_data)\n",
    "        print(f\"Processed {len(ticker_df)} 10-K filings for {ticker}\")\n",
    "        # Append to the master DataFrame\n",
    "        all_tickers_df = pd.concat([all_tickers_df, ticker_df], ignore_index=True)\n",
    "\n",
    "\n",
    "# Once all tickers are processed, export to CSV\n",
    "all_tickers_df.to_csv(\"tickers_10k_data.csv\", index=False)"
   ]
  },
  {
   "cell_type": "code",
   "execution_count": null,
   "metadata": {},
   "outputs": [],
   "source": []
  }
 ],
 "metadata": {
  "kernelspec": {
   "display_name": "venv",
   "language": "python",
   "name": "python3"
  },
  "language_info": {
   "codemirror_mode": {
    "name": "ipython",
    "version": 3
   },
   "file_extension": ".py",
   "mimetype": "text/x-python",
   "name": "python",
   "nbconvert_exporter": "python",
   "pygments_lexer": "ipython3",
   "version": "3.11.6"
  }
 },
 "nbformat": 4,
 "nbformat_minor": 2
}
