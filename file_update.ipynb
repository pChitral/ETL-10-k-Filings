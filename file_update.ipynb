{
 "cells": [
  {
   "cell_type": "code",
   "execution_count": 1,
   "metadata": {},
   "outputs": [],
   "source": [
    "import pandas as pd \n"
   ]
  },
  {
   "cell_type": "code",
   "execution_count": 2,
   "metadata": {},
   "outputs": [],
   "source": [
    "import json\n",
    "import re\n",
    "from collections import Counter\n",
    "\n",
    "import pandas as pd\n",
    "from bs4 import BeautifulSoup\n",
    "from utils.global_vars import load_word_list, WORD_LIST\n",
    "\n",
    "html_file_path = '/Users/chitralpatil/Documents/Research/ETL-10-k-Filings/data/sec-edgar-filings/AAPL/10-K/0000320193-18-000145/primary-document.html'\n",
    "\n",
    "load_word_list()\n",
    "try:\n",
    "    word_list_df = pd.read_csv(\"updated_word_list.csv\")\n",
    "except FileNotFoundError as e:\n",
    "    raise FileNotFoundError(\n",
    "        \"Word list file 'updated_word_list.csv' not found.\"\n",
    "    ) from e\n",
    "\n",
    "word_list = set(word_list_df[\"words\"].tolist())\n"
   ]
  },
  {
   "cell_type": "code",
   "execution_count": 4,
   "metadata": {},
   "outputs": [],
   "source": [
    "try:\n",
    "    with open(html_file_path, \"r\", encoding=\"utf-8\") as file:\n",
    "        soup = BeautifulSoup(file, \"html.parser\")\n",
    "except FileNotFoundError as e:\n",
    "    raise FileNotFoundError(f\"HTML file '{html_file_path}' not found.\") from e\n",
    "except UnicodeDecodeError as e:\n",
    "    raise UnicodeDecodeError(\"Encoding issue with the HTML file.\") from e\n"
   ]
  },
  {
   "cell_type": "code",
   "execution_count": 6,
   "metadata": {},
   "outputs": [
    {
     "name": "stdout",
     "output_type": "stream",
     "text": [
      "The length of the text is 281616\n"
     ]
    }
   ],
   "source": [
    "text = soup.get_text(\" \", strip=True).lower()\n",
    "print(f'The length of the text is {len(text)}')"
   ]
  },
  {
   "cell_type": "code",
   "execution_count": 8,
   "metadata": {},
   "outputs": [],
   "source": [
    "words_in_text = re.findall(r\"\\b\\w+\\b\", text)\n"
   ]
  },
  {
   "cell_type": "code",
   "execution_count": 9,
   "metadata": {},
   "outputs": [],
   "source": [
    "word_counts = Counter(words_in_text)\n"
   ]
  },
  {
   "cell_type": "code",
   "execution_count": 11,
   "metadata": {},
   "outputs": [
    {
     "name": "stdout",
     "output_type": "stream",
     "text": [
      "The length of the selected word counts is 537\n"
     ]
    }
   ],
   "source": [
    "selected_word_counts = {\n",
    "    word: word_counts[word] for word in word_list if word in word_counts\n",
    "}\n",
    "print(f'The length of the selected word counts is {len(selected_word_counts)}')"
   ]
  },
  {
   "cell_type": "code",
   "execution_count": 13,
   "metadata": {},
   "outputs": [
    {
     "name": "stdout",
     "output_type": "stream",
     "text": [
      "The length of the json is 8394\n"
     ]
    }
   ],
   "source": [
    "helo = json.dumps(selected_word_counts)\n",
    "print(f\"The length of the json is {len(helo)}\")"
   ]
  },
  {
   "cell_type": "code",
   "execution_count": null,
   "metadata": {},
   "outputs": [],
   "source": []
  }
 ],
 "metadata": {
  "kernelspec": {
   "display_name": "venv",
   "language": "python",
   "name": "python3"
  },
  "language_info": {
   "codemirror_mode": {
    "name": "ipython",
    "version": 3
   },
   "file_extension": ".py",
   "mimetype": "text/x-python",
   "name": "python",
   "nbconvert_exporter": "python",
   "pygments_lexer": "ipython3",
   "version": "3.11.7"
  }
 },
 "nbformat": 4,
 "nbformat_minor": 2
}
